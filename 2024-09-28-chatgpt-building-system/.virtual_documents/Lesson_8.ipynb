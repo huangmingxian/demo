





age = 23





print(age)





age = 5





print(age)








name = "Otto"
gnome_height = 12.7





print(f"Age: {age}")





print(f"Name: {name}")
print(f"Gnome height: {gnome_height}")





print(f"Gnome height: {Gnome_height}")








score = 0 # now score is 0
print(score)





score = score + 50 # now score is 0 + 50 which is 50
print(score)





score = score + 100 # now score is 100 + 50 which is 150
print(score)





score = score + 300 # now score is 150 + 300 which is 450
print(score)





print(f"Your final score was: {score}") # prints 450








my score = 450 











print(49 / 7)





print(f"Otto's age in dog years is {49 / 7}")





dog_age = 49 / 7





print(f"""Otto's dog age is {49/7}. So a dog that's about
{49/7} would be the same age as Otto. Any dog born about {49/7}
years ago would be in the same stage of life as Otto.""")





print(f"""Otto's dog age is {dog_age}. So a dog that's about
{dog_age} would be the same age as Otto. Any dog born about {dog_age}
years ago would be in the same stage of life as Otto.""")





dog_age = 50/7





print(f"""Otto's dog age is {dog_age}. So a dog that's about
{dog_age} would be the same age as Otto. Any dog born about {dog_age}
years ago would be in the same stage of life as Otto.""")





print(f"""{name}'s dog age is {dog_age}. So a dog that's about
{dog_age} would be the same age as {name}. Any dog born about {dog_age}
years ago would be in the same stage of life as {name}.""")





name = "Otto Matic"





print(f"""{name}'s dog age is {dog_age}. So a dog that's about
{dog_age} would be the same age as {name}. Any dog born about {dog_age}
years ago would be in the same stage of life as {name}.""")





# Create a variable called 'my_name' and assign it the value of your name as a string.
# Then print out a greeting using the variable, like "Hello, Andrew!"
my_name = 
print()


# Enter your favorite number below and store it in a variable called 'fav_num'. 
# Print out a message telling you what your favorite number plus 10 is.
fav_num = 
print(f"Your favorite number plus 10 is {}")


# Create two variables, 'countries_visited' and 'countries_to_visit' and assign them the number of
# countries you've been to and the number of countries you hope to visit. Then complete the print statement.



print(f"""I have visited {} countries. I plan to visit {} more countries, 
      and when I'm done I will have visited {} countries.""")
